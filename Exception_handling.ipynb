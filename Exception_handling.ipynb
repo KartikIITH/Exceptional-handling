{
  "nbformat": 4,
  "nbformat_minor": 0,
  "metadata": {
    "colab": {
      "provenance": []
    },
    "kernelspec": {
      "name": "python3",
      "display_name": "Python 3"
    },
    "language_info": {
      "name": "python"
    }
  },
  "cells": [
    {
      "cell_type": "code",
      "source": [],
      "metadata": {
        "id": "win9jBbbTiF8"
      },
      "execution_count": null,
      "outputs": []
    },
    {
      "cell_type": "markdown",
      "source": [
        "1.\tDifference between interpreted and compiled languages\n",
        "\t- Interpreted languages execute code line by line at runtime (e.g., Python, JavaScript).\n",
        "\t-\tCompiled languages are translated into machine code before execution (e.g., C, C++).\n",
        "\t- Interpreted languages are generally slower but more flexible, while compiled languages are faster but require a compilation step."
      ],
      "metadata": {
        "id": "XT5yvT_HTjwG"
      }
    },
    {
      "cell_type": "markdown",
      "source": [
        "\t2.\tException handling in Python.\n",
        "\t- It is a mechanism to handle runtime errors using try, except, finally, and\n",
        "\n"
      ],
      "metadata": {
        "id": "lJ8_wbv6Tj_O"
      }
    },
    {
      "cell_type": "markdown",
      "source": [
        "3.\tPurpose of the finally block in exception handling\n",
        "\t- The finally block runs regardless of whether an exception occurs or not and is used for cleanup operations like closing files or releasing resources."
      ],
      "metadata": {
        "id": "Po-HOrSnT6Qz"
      }
    },
    {
      "cell_type": "markdown",
      "source": [
        "4.\tLogging in Python\n",
        "\t-\tLogging is a way to track events in a program by recording messages, warnings, and errors using the logging module."
      ],
      "metadata": {
        "id": "KLc5VO4vTkCX"
      }
    },
    {
      "cell_type": "markdown",
      "source": [
        "\t5.\tSignificance of the __del__ method in Python\n",
        "\t-\t__del__ is a destructor method called when an object is about to be destroyed, typically used for cleanup tasks."
      ],
      "metadata": {
        "id": "x79E3G8wTkIU"
      }
    },
    {
      "cell_type": "markdown",
      "source": [
        "6.\tDifference between import and from ... import\n",
        "\t- import module_name imports the entire module.\n",
        "\t-\tfrom module_name import function_name imports only a specific function/class, avoiding the need to use module_name.function_name.\n",
        "\n"
      ],
      "metadata": {
        "id": "_xDSMwr7TkK6"
      }
    },
    {
      "cell_type": "markdown",
      "source": [
        "\t7.\tHandling multiple exceptions in Python\n",
        "\t - Use multiple except blocks:"
      ],
      "metadata": {
        "id": "mRcjhqBXTkNg"
      }
    },
    {
      "cell_type": "code",
      "source": [
        "try:\n",
        "    x = 1 / 0\n",
        "except ZeroDivisionError:\n",
        "    print(\"Cannot divide by zero\")\n",
        "except ValueError:\n",
        "    print(\"Invalid value\")"
      ],
      "metadata": {
        "colab": {
          "base_uri": "https://localhost:8080/"
        },
        "id": "IS3RAMwcVjCw",
        "outputId": "6d8ec1d7-4c98-4240-f3c3-8f79d3e8c5f4"
      },
      "execution_count": 1,
      "outputs": [
        {
          "output_type": "stream",
          "name": "stdout",
          "text": [
            "Cannot divide by zero\n"
          ]
        }
      ]
    },
    {
      "cell_type": "code",
      "source": [],
      "metadata": {
        "id": "vQIh_d-DVi9O"
      },
      "execution_count": null,
      "outputs": []
    },
    {
      "cell_type": "markdown",
      "source": [
        "8. Purpose of the with statement in file handling\n",
        "\t-  It ensures automatic file closure, preventing resource leaks:\n",
        "\n",
        "  "
      ],
      "metadata": {
        "id": "A4J2YuukV87C"
      }
    },
    {
      "cell_type": "markdown",
      "source": [
        "9.\tDifference between multithreading and multiprocessing\n",
        "\t- Multithreading: Runs multiple threads within the same process (shares memory).\n",
        "\t- Multiprocessing: Runs multiple processes (independent memory spaces, better for CPU-intensive tasks)."
      ],
      "metadata": {
        "id": "RS-gpLN7TiWi"
      }
    },
    {
      "cell_type": "markdown",
      "source": [
        "10.\tAdvantages of using logging\n",
        "\t- Helps in debugging and tracking issues.\n",
        "\t-\tRecords error messages and warnings.\n",
        "\t-\tCan store logs in files for analysis."
      ],
      "metadata": {
        "id": "MkjrVDZWWTMu"
      }
    },
    {
      "cell_type": "markdown",
      "source": [
        "11.\tMemory management in Python\n",
        "\t-\tPython manages memory using automatic garbage collection and dynamic memory allocation."
      ],
      "metadata": {
        "id": "tpIzYSyeWTgQ"
      }
    },
    {
      "cell_type": "markdown",
      "source": [
        "12.\tBasic steps in exception handling\n",
        "\t1.\tPlace risky code in try.\n",
        "\t2.\tHandle exceptions in except.\n",
        "\t3.\tUse finally for cleanup.\n",
        "\t4.\tOptionally use else if no exception occurs."
      ],
      "metadata": {
        "id": "ws51c8IKWo5R"
      }
    },
    {
      "cell_type": "markdown",
      "source": [
        "13.\tWhy memory management is important in Python\n",
        "\t-\tIt prevents memory leaks, ensures efficient memory use, and improves performance."
      ],
      "metadata": {
        "id": "eILsu64zWxP6"
      }
    },
    {
      "cell_type": "markdown",
      "source": [
        "\t14. Role of try and except in exception handling\n",
        "\t-\ttry: Contains code that may cause an exception.\n",
        "\t-\texcept: Handles the exception and prevents program crashes."
      ],
      "metadata": {
        "id": "vbASToN8W2Jw"
      }
    },
    {
      "cell_type": "markdown",
      "source": [
        "15.\tHow Python’s garbage collection works\n",
        "\t- Python uses reference counting and a cyclic garbage collector to reclaim unused memory."
      ],
      "metadata": {
        "id": "Age2UO-UW7Ut"
      }
    },
    {
      "cell_type": "markdown",
      "source": [
        "16.\tPurpose of the else block in exception handling\n",
        "\t-\tThe else block executes only if no exceptions occur in the try block."
      ],
      "metadata": {
        "id": "Mm3o_ABXXF_h"
      }
    },
    {
      "cell_type": "markdown",
      "source": [
        "17.\tCommon logging levels in Python\n",
        "\t-\tDEBUG, INFO, WARNING, ERROR, CRITICAL"
      ],
      "metadata": {
        "id": "ZmnKsC6NXPeS"
      }
    },
    {
      "cell_type": "markdown",
      "source": [
        "\t18.\tDifference between os.fork() and multiprocessing\n",
        "\t-\tos.fork() creates a child process but is Unix-specific.\n",
        "\t-\tmultiprocessing is cross-platform and provides more control over process management."
      ],
      "metadata": {
        "id": "IZPKoeMpXT6r"
      }
    },
    {
      "cell_type": "markdown",
      "source": [
        "19.\tImportance of closing a file in Python\n",
        "\t- \tPrevents data corruption and resource leaks."
      ],
      "metadata": {
        "id": "1NnveXFliBVU"
      }
    },
    {
      "cell_type": "markdown",
      "source": [
        "20.\tDifference between file.read() and file.readline()\n",
        "\t- file.read() reads the entire file.\n",
        "\t-\tfile.readline() reads one line at a time."
      ],
      "metadata": {
        "id": "wE6xULhMiGR-"
      }
    },
    {
      "cell_type": "markdown",
      "source": [
        "\t21.\tPurpose of the logging module\n",
        "\t   -Used for tracking events, debugging, and error handling."
      ],
      "metadata": {
        "id": "b2fkSs9viNkY"
      }
    },
    {
      "cell_type": "markdown",
      "source": [
        "22.\tPurpose of the os module in file handling\n",
        "\t-\tUsed for file operations, directory management, and system interactions."
      ],
      "metadata": {
        "id": "lOHNd33LiURG"
      }
    },
    {
      "cell_type": "markdown",
      "source": [
        "23.\tChallenges in Python memory management\n",
        "\t-\tCircular references, high memory usage, and garbage collection overhead."
      ],
      "metadata": {
        "id": "M45yF47oiXve"
      }
    },
    {
      "cell_type": "code",
      "source": [
        "# 24.\tRaising an exception manually\n",
        "\n",
        "raise ValueError(\"Invalid input\")"
      ],
      "metadata": {
        "id": "4FIZsaWmjtSm"
      },
      "execution_count": null,
      "outputs": []
    },
    {
      "cell_type": "markdown",
      "source": [
        "\t25.\tImportance of multithreading\n",
        "\t-\tImproves performance in I/O-bound tasks (like network requests) by allowing parallel execution."
      ],
      "metadata": {
        "id": "w_NwK0ouj_p2"
      }
    },
    {
      "cell_type": "markdown",
      "source": [
        "# Practical Questions"
      ],
      "metadata": {
        "id": "YF-raV_NkGyR"
      }
    },
    {
      "cell_type": "code",
      "source": [
        "# 1. Open a file for writing and write a string\n",
        "with open(\"output.txt\", \"w\") as f:\n",
        "    f.write(\"Hello, world!\")"
      ],
      "metadata": {
        "id": "nGpyr2UGkrAE"
      },
      "execution_count": 3,
      "outputs": []
    },
    {
      "cell_type": "code",
      "source": [
        "# 2. Read file contents and print each line\n",
        "with open(\"output.txt\", \"r\") as f:\n",
        "    for line in f:\n",
        "        print(line.strip())  # Remove newline characters"
      ],
      "metadata": {
        "colab": {
          "base_uri": "https://localhost:8080/"
        },
        "id": "025gIwSNl4W0",
        "outputId": "4ef09524-a316-40ab-d215-08ee6dcfc971"
      },
      "execution_count": 5,
      "outputs": [
        {
          "output_type": "stream",
          "name": "stdout",
          "text": [
            "Hello, world!\n"
          ]
        }
      ]
    },
    {
      "cell_type": "markdown",
      "source": [],
      "metadata": {
        "id": "98Co1voDksXw"
      }
    },
    {
      "cell_type": "code",
      "source": [
        "# <!-- 3. Handle file not found error -->\n",
        "try:\n",
        "    with open(\"nonexistent.txt\", \"r\") as f:\n",
        "        print(f.read())\n",
        "except FileNotFoundError:\n",
        "    print(\"Error: File not found.\")"
      ],
      "metadata": {
        "colab": {
          "base_uri": "https://localhost:8080/"
        },
        "id": "c5iFfs-cmT4n",
        "outputId": "4b75e43f-7203-40be-df19-0ee41ce3ce84"
      },
      "execution_count": 6,
      "outputs": [
        {
          "output_type": "stream",
          "name": "stdout",
          "text": [
            "Error: File not found.\n"
          ]
        }
      ]
    },
    {
      "cell_type": "code",
      "source": [
        "# 4. Read from one file and write to another\n",
        "with open(\"output.txt\", \"r\") as src, open(\"destination.txt\", \"w\") as dest:\n",
        "    dest.write(src.read())"
      ],
      "metadata": {
        "id": "7KCr1k9lmYot"
      },
      "execution_count": 8,
      "outputs": []
    },
    {
      "cell_type": "code",
      "source": [
        "# 5. Catch division by zero error\n",
        "try:\n",
        "    result = 10 / 0\n",
        "except ZeroDivisionError:\n",
        "    print(\"Cannot divide by zero.\")"
      ],
      "metadata": {
        "colab": {
          "base_uri": "https://localhost:8080/"
        },
        "id": "WUjmmXuYm3j6",
        "outputId": "b3651292-ad4d-4cf5-f46e-3c88be5e4a24"
      },
      "execution_count": 9,
      "outputs": [
        {
          "output_type": "stream",
          "name": "stdout",
          "text": [
            "Cannot divide by zero.\n"
          ]
        }
      ]
    },
    {
      "cell_type": "code",
      "source": [
        "# 6. Log error message on division by zero\n",
        "import logging\n",
        "\n",
        "logging.basicConfig(filename=\"errors.log\", level=logging.ERROR)\n",
        "\n",
        "try:\n",
        "    result = 10 / 0\n",
        "except ZeroDivisionError:\n",
        "    logging.error(\"Division by zero error occurred.\")"
      ],
      "metadata": {
        "colab": {
          "base_uri": "https://localhost:8080/"
        },
        "id": "9kao6XSWm3hD",
        "outputId": "14639291-1e67-4e37-9c9c-e86c62e68d69"
      },
      "execution_count": 10,
      "outputs": [
        {
          "output_type": "stream",
          "name": "stderr",
          "text": [
            "ERROR:root:Division by zero error occurred.\n"
          ]
        }
      ]
    },
    {
      "cell_type": "code",
      "source": [
        "# 7. Log messages at different levels\n",
        "import logging\n",
        "\n",
        "logging.basicConfig(level=logging.DEBUG)\n",
        "\n",
        "logging.info(\"This is an INFO message\")\n",
        "logging.warning(\"This is a WARNING message\")\n",
        "logging.error(\"This is an ERROR message\")"
      ],
      "metadata": {
        "colab": {
          "base_uri": "https://localhost:8080/"
        },
        "id": "eDedb0USm3eK",
        "outputId": "6e78953c-fe4d-44ab-a5e1-9bc22fe3c945"
      },
      "execution_count": 11,
      "outputs": [
        {
          "output_type": "stream",
          "name": "stderr",
          "text": [
            "WARNING:root:This is a WARNING message\n",
            "ERROR:root:This is an ERROR message\n"
          ]
        }
      ]
    },
    {
      "cell_type": "code",
      "source": [
        "# 8. Handle file opening error using exception handling\n",
        "try:\n",
        "    with open(\"missing_file.txt\", \"r\") as f:\n",
        "        print(f.read())\n",
        "except FileNotFoundError:\n",
        "    print(\"File not found error.\")"
      ],
      "metadata": {
        "colab": {
          "base_uri": "https://localhost:8080/"
        },
        "id": "QZEe-YBim3bD",
        "outputId": "dfff9dd7-9a65-41c7-be95-32d6c70ed04e"
      },
      "execution_count": 12,
      "outputs": [
        {
          "output_type": "stream",
          "name": "stdout",
          "text": [
            "File not found error.\n"
          ]
        }
      ]
    },
    {
      "cell_type": "code",
      "source": [
        "# 9. Read file line by line and store in a list\n",
        "with open(\"output.txt\", \"r\") as f:\n",
        "    lines = [line.strip() for line in f]\n",
        "\n",
        "print(lines)"
      ],
      "metadata": {
        "colab": {
          "base_uri": "https://localhost:8080/"
        },
        "id": "mlrsYuL0m3Ty",
        "outputId": "231ec744-8bfc-4f5a-ee93-b4dc18d5fb09"
      },
      "execution_count": 14,
      "outputs": [
        {
          "output_type": "stream",
          "name": "stdout",
          "text": [
            "['Hello, world!']\n"
          ]
        }
      ]
    },
    {
      "cell_type": "code",
      "source": [
        "# 10. Append data to an existing file\n",
        "with open(\"output.txt\", \"a\") as f:\n",
        "    f.write(\"\\nAppending this line.\")\n",
        ""
      ],
      "metadata": {
        "id": "JBMoqwbym3KH"
      },
      "execution_count": 15,
      "outputs": []
    },
    {
      "cell_type": "code",
      "source": [
        "# 11. Handle missing dictionary key error\n",
        "try:\n",
        "    my_dict = {\"a\": 1, \"b\": 2}\n",
        "    print(my_dict[\"c\"])\n",
        "except KeyError:\n",
        "    print(\"Key not found.\")"
      ],
      "metadata": {
        "colab": {
          "base_uri": "https://localhost:8080/"
        },
        "id": "H4uAiaHLn2GW",
        "outputId": "6261b629-5a84-4f6f-db36-40cdf7dccf14"
      },
      "execution_count": 16,
      "outputs": [
        {
          "output_type": "stream",
          "name": "stdout",
          "text": [
            "Key not found.\n"
          ]
        }
      ]
    },
    {
      "cell_type": "code",
      "source": [
        "# 12. Handle multiple exceptions\n",
        "try:\n",
        "    x = int(\"abc\")  # ValueError\n",
        "    y = 1 / 0       # ZeroDivisionError\n",
        "except ValueError:\n",
        "    print(\"Invalid number format.\")\n",
        "except ZeroDivisionError:\n",
        "    print(\"Cannot divide by zero.\")"
      ],
      "metadata": {
        "colab": {
          "base_uri": "https://localhost:8080/"
        },
        "id": "EL07j7chn2Dg",
        "outputId": "2f843194-75cb-4bca-dc1a-dc54d945270a"
      },
      "execution_count": 17,
      "outputs": [
        {
          "output_type": "stream",
          "name": "stdout",
          "text": [
            "Invalid number format.\n"
          ]
        }
      ]
    },
    {
      "cell_type": "code",
      "source": [
        "# 13. Check if file exists before reading\n",
        "import os\n",
        "\n",
        "if os.path.exists(\"sample.txt\"):\n",
        "    with open(\"sample.txt\", \"r\") as f:\n",
        "        print(f.read())\n",
        "else:\n",
        "    print(\"File does not exist.\")"
      ],
      "metadata": {
        "colab": {
          "base_uri": "https://localhost:8080/"
        },
        "id": "9mqU4Oeun2An",
        "outputId": "798fabe8-92c9-49d8-8bcb-4fb3ea14adb9"
      },
      "execution_count": 18,
      "outputs": [
        {
          "output_type": "stream",
          "name": "stdout",
          "text": [
            "File does not exist.\n"
          ]
        }
      ]
    },
    {
      "cell_type": "code",
      "source": [
        "# 14. Log informational and error messages\n",
        "import logging\n",
        "\n",
        "logging.basicConfig(filename=\"app.log\", level=logging.INFO)\n",
        "\n",
        "logging.info(\"Program started\")\n",
        "try:\n",
        "    x = 1 / 0\n",
        "except ZeroDivisionError:\n",
        "    logging.error(\"Division by zero error\")"
      ],
      "metadata": {
        "colab": {
          "base_uri": "https://localhost:8080/"
        },
        "id": "9fhF4kESn18-",
        "outputId": "b65ba912-6580-40c0-a026-81c34ea2526d"
      },
      "execution_count": 19,
      "outputs": [
        {
          "output_type": "stream",
          "name": "stderr",
          "text": [
            "ERROR:root:Division by zero error\n"
          ]
        }
      ]
    },
    {
      "cell_type": "code",
      "source": [
        "# 15. Print file contents and handle empty file\n",
        "with open(\"output.txt\", \"r\") as f:\n",
        "    content = f.read()\n",
        "    if not content:\n",
        "        print(\"The file is empty.\")\n",
        "    else:\n",
        "        print(content)"
      ],
      "metadata": {
        "colab": {
          "base_uri": "https://localhost:8080/"
        },
        "id": "Wr7P5tr4n11s",
        "outputId": "63b07db9-c9eb-4f9a-a915-b80615e30160"
      },
      "execution_count": 21,
      "outputs": [
        {
          "output_type": "stream",
          "name": "stdout",
          "text": [
            "Hello, world!\n",
            "Appending this line.\n"
          ]
        }
      ]
    },
    {
      "cell_type": "code",
      "source": [
        "# 16. Use memory profiling\n",
        "!pip install memory_profiler\n",
        "# The memory_profiler package is missing. Installing it should resolve the issue.\n",
        "from memory_profiler import profile\n",
        "\n",
        "@profile\n",
        "def test_function():\n",
        "    a = [i for i in range(1000000)]  # Creates a large list\n",
        "\n",
        "test_function()"
      ],
      "metadata": {
        "colab": {
          "base_uri": "https://localhost:8080/"
        },
        "id": "kNkkIsYDoVaQ",
        "outputId": "eb632464-8db2-48a1-8d2f-9ecdc41ccb29"
      },
      "execution_count": 23,
      "outputs": [
        {
          "output_type": "stream",
          "name": "stdout",
          "text": [
            "Collecting memory_profiler\n",
            "  Downloading memory_profiler-0.61.0-py3-none-any.whl.metadata (20 kB)\n",
            "Requirement already satisfied: psutil in /usr/local/lib/python3.11/dist-packages (from memory_profiler) (5.9.5)\n",
            "Downloading memory_profiler-0.61.0-py3-none-any.whl (31 kB)\n",
            "Installing collected packages: memory_profiler\n",
            "Successfully installed memory_profiler-0.61.0\n"
          ]
        },
        {
          "output_type": "stream",
          "name": "stderr",
          "text": [
            "\n",
            "PYDEV DEBUGGER WARNING:\n",
            "sys.settrace() should not be used when the debugger is being used.\n",
            "This may cause the debugger to stop working correctly.\n",
            "If this is needed, please check: \n",
            "http://pydev.blogspot.com/2007/06/why-cant-pydev-debugger-work-with.html\n",
            "to see how to restore the debug tracing back correctly.\n",
            "Call Location:\n",
            "  File \"/usr/local/lib/python3.11/dist-packages/memory_profiler.py\", line 847, in enable\n",
            "    sys.settrace(self.trace_memory_usage)\n",
            "\n"
          ]
        },
        {
          "output_type": "stream",
          "name": "stdout",
          "text": [
            "ERROR: Could not find file <ipython-input-23-240d98fd165e>\n",
            "NOTE: %mprun can only be used on functions defined in physical files, and not in the IPython environment.\n"
          ]
        },
        {
          "output_type": "stream",
          "name": "stderr",
          "text": [
            "\n",
            "PYDEV DEBUGGER WARNING:\n",
            "sys.settrace() should not be used when the debugger is being used.\n",
            "This may cause the debugger to stop working correctly.\n",
            "If this is needed, please check: \n",
            "http://pydev.blogspot.com/2007/06/why-cant-pydev-debugger-work-with.html\n",
            "to see how to restore the debug tracing back correctly.\n",
            "Call Location:\n",
            "  File \"/usr/local/lib/python3.11/dist-packages/memory_profiler.py\", line 850, in disable\n",
            "    sys.settrace(self._original_trace_function)\n",
            "\n"
          ]
        }
      ]
    },
    {
      "cell_type": "code",
      "source": [
        "# 17. Write a list of numbers to a file\n",
        "numbers = [1, 2, 3, 4, 5]\n",
        "with open(\"numbers.txt\", \"w\") as f:\n",
        "    for num in numbers:\n",
        "        f.write(f\"{num}\\n\")"
      ],
      "metadata": {
        "id": "-67ESZIooVX6"
      },
      "execution_count": 24,
      "outputs": []
    },
    {
      "cell_type": "code",
      "source": [
        "# 18. Logging setup with rotation (logs after 1MB)\n",
        "import logging\n",
        "from logging.handlers import RotatingFileHandler\n",
        "\n",
        "handler = RotatingFileHandler(\"app.log\", maxBytes=1024*1024, backupCount=3)\n",
        "logging.basicConfig(level=logging.INFO, handlers=[handler])\n",
        "\n",
        "logging.info(\"This is a log message.\")"
      ],
      "metadata": {
        "id": "HABj6CXZoxmx"
      },
      "execution_count": 25,
      "outputs": []
    },
    {
      "cell_type": "code",
      "source": [
        "# 19. Handle both IndexError and KeyError\n",
        "try:\n",
        "    my_list = [1, 2, 3]\n",
        "    print(my_list[5])  # IndexError\n",
        "except IndexError:\n",
        "    print(\"Index out of range.\")\n",
        "\n",
        "try:\n",
        "    my_dict = {\"a\": 1}\n",
        "    print(my_dict[\"b\"])  # KeyError\n",
        "except KeyError:\n",
        "    print(\"Key not found.\")"
      ],
      "metadata": {
        "colab": {
          "base_uri": "https://localhost:8080/"
        },
        "id": "ZKVsaqFUoxfg",
        "outputId": "b6756da4-1ca3-4b2d-a2d3-d92d9fb18e37"
      },
      "execution_count": 26,
      "outputs": [
        {
          "output_type": "stream",
          "name": "stdout",
          "text": [
            "Index out of range.\n",
            "Key not found.\n"
          ]
        }
      ]
    },
    {
      "cell_type": "code",
      "source": [
        "# 20. Read file contents using a context manager\n",
        "with open(\"output.txt\", \"r\") as f:\n",
        "    content = f.read()\n",
        "    print(content)"
      ],
      "metadata": {
        "colab": {
          "base_uri": "https://localhost:8080/"
        },
        "id": "ZxHEuIfRoxXW",
        "outputId": "6790c6e5-12e2-4e8a-b4c7-457fb6e82e9e"
      },
      "execution_count": 28,
      "outputs": [
        {
          "output_type": "stream",
          "name": "stdout",
          "text": [
            "Hello, world!\n",
            "Appending this line.\n"
          ]
        }
      ]
    },
    {
      "cell_type": "code",
      "source": [
        "# 21. Count occurrences of a word in a file\n",
        "word_to_count = \"Python\"\n",
        "with open(\"output.txt\", \"r\") as f:\n",
        "    content = f.read().lower()\n",
        "    print(f\"Occurrences of '{word_to_count}':\", content.count(word_to_count.lower()))"
      ],
      "metadata": {
        "colab": {
          "base_uri": "https://localhost:8080/"
        },
        "id": "N3AIh_KMoVVE",
        "outputId": "f39c0327-9ef4-4061-81f6-6d66b078cb18"
      },
      "execution_count": 29,
      "outputs": [
        {
          "output_type": "stream",
          "name": "stdout",
          "text": [
            "Occurrences of 'Python': 0\n"
          ]
        }
      ]
    },
    {
      "cell_type": "code",
      "source": [
        "# 22. Check if a file is empty before reading\n",
        "import os\n",
        "\n",
        "if os.stat(\"output.txt\").st_size == 0:\n",
        "    print(\"The file is empty.\")\n",
        "else:\n",
        "    with open(\"output.txt\", \"r\") as f:\n",
        "        print(f.read())"
      ],
      "metadata": {
        "colab": {
          "base_uri": "https://localhost:8080/"
        },
        "id": "pfKEZNDPoVNQ",
        "outputId": "21675a0b-2e16-4baa-b276-532cef6dc3f2"
      },
      "execution_count": 32,
      "outputs": [
        {
          "output_type": "stream",
          "name": "stdout",
          "text": [
            "Hello, world!\n",
            "Appending this line.\n"
          ]
        }
      ]
    },
    {
      "cell_type": "code",
      "source": [
        "# 23. Write to a log file on file handling error\n",
        "import logging\n",
        "\n",
        "logging.basicConfig(filename=\"file_errors.log\", level=logging.ERROR)\n",
        "\n",
        "try:\n",
        "    with open(\"nonexistent.txt\", \"r\") as f:\n",
        "        print(f.read())\n",
        "except FileNotFoundError:\n",
        "    logging.error(\"File not found error occurred.\")"
      ],
      "metadata": {
        "colab": {
          "base_uri": "https://localhost:8080/"
        },
        "id": "0ORIkDqEpYqE",
        "outputId": "cd7185d3-bf93-45ea-f351-fb0e68dae1de"
      },
      "execution_count": 33,
      "outputs": [
        {
          "output_type": "stream",
          "name": "stderr",
          "text": [
            "ERROR:root:File not found error occurred.\n"
          ]
        }
      ]
    }
  ]
}